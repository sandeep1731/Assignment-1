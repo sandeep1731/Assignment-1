{
  "nbformat": 4,
  "nbformat_minor": 0,
  "metadata": {
    "colab": {
      "provenance": [],
      "toc_visible": true,
      "authorship_tag": "ABX9TyMVtZq6quOztnKErczeKm38",
      "include_colab_link": true
    },
    "kernelspec": {
      "name": "python3",
      "display_name": "Python 3"
    },
    "language_info": {
      "name": "python"
    }
  },
  "cells": [
    {
      "cell_type": "markdown",
      "metadata": {
        "id": "view-in-github",
        "colab_type": "text"
      },
      "source": [
        "<a href=\"https://colab.research.google.com/github/sandeep1731/Assignment-1/blob/main/Assignment1.ipynb\" target=\"_parent\"><img src=\"https://colab.research.google.com/assets/colab-badge.svg\" alt=\"Open In Colab\"/></a>"
      ]
    },
    {
      "cell_type": "code",
      "execution_count": null,
      "metadata": {
        "colab": {
          "base_uri": "https://localhost:8080/"
        },
        "id": "x9P5dESA2fIx",
        "outputId": "716fed59-b245-4aa7-a9e0-7761d883e7a9"
      },
      "outputs": [
        {
          "output_type": "stream",
          "name": "stdout",
          "text": [
            "The first sentence. The second sentence. The last sentence.\n"
          ]
        }
      ],
      "source": [
        "def sentences():\n",
        "  print('The first sentence', end='. ')\n",
        "  print('The second sentence', end='. ')\n",
        "  print('The last sentence.')\n",
        "\n",
        "sentences()\n"
      ]
    },
    {
      "cell_type": "code",
      "source": [
        "!git clone https://github.com/sandeep1731/Assignment-2.git"
      ],
      "metadata": {
        "colab": {
          "base_uri": "https://localhost:8080/"
        },
        "id": "ZT_o_cXcBxYA",
        "outputId": "46c442ea-49d2-49ff-de83-94816f041a97"
      },
      "execution_count": 12,
      "outputs": [
        {
          "output_type": "stream",
          "name": "stdout",
          "text": [
            "Cloning into 'Assignment-2'...\n",
            "fatal: could not read Username for 'https://github.com': No such device or address\n"
          ]
        }
      ]
    },
    {
      "cell_type": "code",
      "source": [
        "def bullets():\n",
        "  print('My favourite Pythons:', end='\\\\n *')\n",
        "  print('Idle', end='\\\\n *')\n",
        "  print('Cleese ', end='\\\\n *')\n",
        "  print('Sumatran short-tailed')\n",
        "\n",
        "bullets()"
      ],
      "metadata": {
        "colab": {
          "base_uri": "https://localhost:8080/"
        },
        "id": "FCAGzZhi4nrM",
        "outputId": "5b1a6a56-2873-497e-c782-642b50676b8e"
      },
      "execution_count": null,
      "outputs": [
        {
          "output_type": "stream",
          "name": "stdout",
          "text": [
            "My favourite Pythons:\\n *Idle\\n *Cleese \\n *Sumatran short-tailed\n"
          ]
        }
      ]
    },
    {
      "cell_type": "code",
      "source": [
        "def planets():\n",
        "  print('Mercury', 'Venus', 'Earth', sep=',', end=', ')\n",
        "  print('Mars', 'Jupiter', 'Saturn', sep=',', end=', ')\n",
        "  print('Uranus', 'Neptune', sep=',', end=', ')\n",
        "\n",
        "planets() nothing"
      ],
      "metadata": {
        "colab": {
          "base_uri": "https://localhost:8080/"
        },
        "id": "60F14-3j4l0Y",
        "outputId": "b23bc4d2-83a0-4860-f449-0c56c8108c6e"
      },
      "execution_count": null,
      "outputs": [
        {
          "output_type": "stream",
          "name": "stdout",
          "text": [
            "Mercury,Venus,Earth, Mars,Jupiter,Saturn, Uranus,Neptune, "
          ]
        }
      ]
    }
  ]
}